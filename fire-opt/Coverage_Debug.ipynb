{
 "cells": [
  {
   "cell_type": "code",
   "execution_count": 5,
   "id": "db34e6a2-f8aa-4487-89fe-51e197f533f5",
   "metadata": {},
   "outputs": [
    {
     "data": {
      "image/svg+xml": [
       "<?xml version=\"1.0\" encoding=\"UTF-8\"?>\n",
       "<svg xmlns=\"http://www.w3.org/2000/svg\" xmlns:xlink=\"http://www.w3.org/1999/xlink\"\n",
       "     width=\"1200\" height=\"480\" viewBox=\"-400 -200 1200 480\">\n",
       "<defs>\n",
       "</defs>\n",
       "<path d=\"M157.3480230293794,-141.31424096181524 L3.148547963762578,-141.31424096181524 L3.148547963762578,-133.4402252137844 L21.193167386334764,-133.4402252137844 L21.193167386334764,-113.7551858437056 L3.148547963762578,-113.7551858437056 L3.148547963762578,-15.658072982812087 L157.3480230293794,-15.658072982812087 L157.3480230293794,-112.11476589619562 L157.3480230293794,-141.31424096181524\" stroke=\"black\" fill=\"lightgray\" />\n",
       "</svg>"
      ],
      "text/plain": [
       "<drawsvg.drawing.Drawing at 0x7dd8ce15c0d0>"
      ]
     },
     "execution_count": 5,
     "metadata": {},
     "output_type": "execute_result"
    }
   ],
   "source": [
    "\"\"\"\n",
    "Extinguisher.ipynb\n",
    "TODO:\n",
    "- [x] Get floor definition from Revit\n",
    "- [x] Add Obstacles\n",
    "- [ ] Add Doors (extinguisher to be closest to access points)\n",
    "\"\"\"\n",
    "__author__ = \"Bob YX Lee\"\n",
    "import sys \n",
    "import os\n",
    "import json\n",
    "import drawsvg as dw\n",
    "import random\n",
    "from copy import deepcopy\n",
    "\n",
    "sys.path.append(\"./packages\")\n",
    "\n",
    "from geom.Line2D import Line2D\n",
    "\n",
    "MM = 100\n",
    "\n",
    "data = {}\n",
    "# Get random data point\n",
    "datafiles = os.listdir(\"./dataset\")\n",
    "data_path = os.path.join(\"./dataset\", \"test_api.json\")#random.choice(datafiles))\n",
    "data = {}\n",
    "with open(data_path, \"r\") as f:\n",
    "    data = json.loads(f.read())\n",
    "\n",
    "d = dw.Drawing(1200, 480, origin = (-MM*4, -MM*2), id_prefix='pic')\n",
    "dpath = dw.Path(stroke = 'black', fill = 'lightgray')\n",
    "#print(data)\n",
    "verts = data[\"room_dict\"][\"vertices\"]\n",
    "\n",
    "for i, p in enumerate(verts):\n",
    "    if i == 0: dpath.M(p[0]/MM, -p[1]/MM); continue\n",
    "    dpath.L(p[0]/MM, -p[1]/MM);\n",
    "    \n",
    "d.append(dpath)"
   ]
  },
  {
   "cell_type": "code",
   "execution_count": 8,
   "id": "64af88a6-b20d-4088-bc0b-48c65b5907e6",
   "metadata": {},
   "outputs": [
    {
     "data": {
      "image/svg+xml": [
       "<?xml version=\"1.0\" encoding=\"UTF-8\"?>\n",
       "<svg xmlns=\"http://www.w3.org/2000/svg\" xmlns:xlink=\"http://www.w3.org/1999/xlink\"\n",
       "     width=\"1200\" height=\"480\" viewBox=\"-400 -200 1200 480\">\n",
       "<defs>\n",
       "</defs>\n",
       "<path d=\"M157.3480230293794,-141.31424096181524 L3.148547963762578,-141.31424096181524 L3.148547963762578,-133.4402252137844 L21.193167386334764,-133.4402252137844 L21.193167386334764,-113.7551858437056 L3.148547963762578,-113.7551858437056 L3.148547963762578,-15.658072982812087 L157.3480230293794,-15.658072982812087 L157.3480230293794,-112.11476589619562 L157.3480230293794,-141.31424096181524\" stroke=\"black\" fill=\"lightgray\" />\n",
       "<circle cx=\"3.148547963762578\" cy=\"-54.38061753316479\" r=\"150.0\" fill=\"yellow\" fill-opacity=\"0.3\" />\n",
       "<circle cx=\"3.148547963762578\" cy=\"-54.38061753316479\" r=\"5\" fill=\"red\" />\n",
       "<circle cx=\"157.3480230293794\" cy=\"-141.31424096181524\" r=\"150.0\" fill=\"yellow\" fill-opacity=\"0.3\" />\n",
       "<circle cx=\"157.3480230293794\" cy=\"-141.31424096181524\" r=\"5\" fill=\"red\" />\n",
       "</svg>"
      ],
      "text/plain": [
       "<drawsvg.drawing.Drawing at 0x7dd8c4d01090>"
      ]
     },
     "execution_count": 8,
     "metadata": {},
     "output_type": "execute_result"
    }
   ],
   "source": [
    "\"\"\"\n",
    "PASS 1\n",
    "TODO:\n",
    "- Create iteration algorithm\n",
    "\"\"\"\n",
    "# Iterate through all possible combinations until boolean difference is 0\n",
    "d3 = deepcopy(d)\n",
    "\n",
    "def drawCoverage(d, pt):\n",
    "    d.append(dw.Circle(pt[0]/MM, -pt[1]/MM, 15000/MM, fill='yellow', fill_opacity=0.3))\n",
    "    d.append(dw.Circle(pt[0]/MM, -pt[1]/MM, 5, fill='red'))\n",
    "    pass\n",
    "\n",
    "exts = data[\"exts\"]\n",
    "for e in exts:\n",
    "    drawCoverage(d3, e)\n",
    "d3"
   ]
  },
  {
   "cell_type": "code",
   "execution_count": 13,
   "id": "1e3c47cd-1207-4246-9911-271405fc8c2b",
   "metadata": {},
   "outputs": [
    {
     "name": "stdout",
     "output_type": "stream",
     "text": [
      "[]\n"
     ]
    },
    {
     "data": {
      "text/plain": [
       "'\\ncircle = circle2D(15000, 64, tp)\\ncircle2 = circle2D(15000, 64, tp1)\\ncircle3 = circle2D(15000, 64, tp2)\\nd5 = deepcopy(d3)\\npc = pyclipper.Pyclipper()\\npc.AddPaths([circle2, circle, circle3], pyclipper.PT_CLIP, True)\\n\\npc.AddPath(boundary2d, pyclipper.PT_SUBJECT, True)\\nsln = pc.Execute(pyclipper.CT_DIFFERENCE, pyclipper.PFT_POSITIVE, pyclipper.PFT_POSITIVE)\\nprint(sln)\\npass1 = False\\nfor p in sln:\\n    drawPath(d5, p, \"red\")\\n    print(polyArea(p))\\nif(len(sln) == 0):\\n    pass1 = True\\n    print(\"Pass 1: PASSED\")\\nd5\\n'"
      ]
     },
     "execution_count": 13,
     "metadata": {},
     "output_type": "execute_result"
    }
   ],
   "source": [
    "\"\"\"\n",
    "Test pyclipper\n",
    "\"\"\"\n",
    "import numpy as np\n",
    "import pyclipper\n",
    "\n",
    "def polyArea(path):\n",
    "    if len(path == 0): return 0\n",
    "    x = np.array([point[0] for point in path])\n",
    "    y = np.array([point[1] for point in path])\n",
    "    return 0.5 * np.abs(np.dot(x, np.roll(y, 1)) - np.dot(y, np.roll(x, 1))) \n",
    "\n",
    "def drawPath(dwg, path, fill=\"yellow\", fill_opacity = 0.3):\n",
    "    dpath = dw.Path(fill = fill, fill_opacity = fill_opacity)\n",
    "    for i, v in enumerate(path):\n",
    "        if i == 0: dpath.M(v[0]/MM, -v[1]/MM); continue;\n",
    "        dpath.L(v[0]/MM, -v[1]/MM)\n",
    "    dwg.append(dpath)\n",
    "\n",
    "def circle2D(radius, nv, center = (0,0), endpoint = False):\n",
    "    theta = np.linspace(0, 2 * np.pi, nv, endpoint=endpoint)\n",
    "    x = radius * np.cos(theta)\n",
    "    y = radius * np.sin(theta)\n",
    "\n",
    "    vertices = np.vstack((x,y)).T\n",
    "    moved_verts = []\n",
    "    for v in vertices:\n",
    "        moved_verts.append((v[0]+center[0], v[1] + center[1]))\n",
    "    return moved_verts\n",
    "\n",
    "boundary = verts\n",
    "boundary2d = []\n",
    "for b in boundary:\n",
    "    boundary2d.append((b[0], b[1]))\n",
    "\n",
    "ext2d = []\n",
    "for e in exts:\n",
    "    ext2d.append(circle2D(15000, 64, e))\n",
    "\n",
    "dt = deepcopy(d3)\n",
    "\n",
    "pc = pyclipper.Pyclipper()\n",
    "pc.AddPaths(ext2d, pyclipper.PT_CLIP, True)\n",
    "pc.AddPaths([boundary2d], pyclipper.PT_SUBJECT, pyclipper.PFT_POSITIVE)\n",
    "sln = pc.Execute(pyclipper.CT_DIFFERENCE, pyclipper.PFT_POSITIVE, pyclipper.PFT_POSITIVE)\n",
    "\n",
    "print(sln)\n",
    "\"\"\"\n",
    "circle = circle2D(15000, 64, tp)\n",
    "circle2 = circle2D(15000, 64, tp1)\n",
    "circle3 = circle2D(15000, 64, tp2)\n",
    "d5 = deepcopy(d3)\n",
    "pc = pyclipper.Pyclipper()\n",
    "pc.AddPaths([circle2, circle, circle3], pyclipper.PT_CLIP, True)\n",
    "\n",
    "pc.AddPath(boundary2d, pyclipper.PT_SUBJECT, True)\n",
    "sln = pc.Execute(pyclipper.CT_DIFFERENCE, pyclipper.PFT_POSITIVE, pyclipper.PFT_POSITIVE)\n",
    "print(sln)\n",
    "pass1 = False\n",
    "for p in sln:\n",
    "    drawPath(d5, p, \"red\")\n",
    "    print(polyArea(p))\n",
    "if(len(sln) == 0):\n",
    "    pass1 = True\n",
    "    print(\"Pass 1: PASSED\")\n",
    "d5\n",
    "\"\"\""
   ]
  },
  {
   "cell_type": "code",
   "execution_count": 12,
   "id": "e7078554-c391-4395-986f-5f996b3b7145",
   "metadata": {},
   "outputs": [
    {
     "data": {
      "image/svg+xml": [
       "<?xml version=\"1.0\" encoding=\"UTF-8\"?>\n",
       "<svg xmlns=\"http://www.w3.org/2000/svg\" xmlns:xlink=\"http://www.w3.org/1999/xlink\"\n",
       "     width=\"1200\" height=\"480\" viewBox=\"-400 -200 1200 480\">\n",
       "<defs>\n",
       "</defs>\n",
       "<path d=\"M-169.25874849927433,-67.03856034298559 L-306.25874849927413,-67.03856034298605 L-306.25874849927413,-25.03856034298603 L-169.25874849927416,-25.038560342985587 L-169.25874849927416,101.96143965701441 L-129.2587484992739,101.96143965701441 L-129.2587484992739,94.21143965701431 L-123.25874849927392,94.21143965701431 L-123.25874849927392,101.96143965701441 L-36.258748499273956,101.96143965701441 L-36.258748499273956,94.21143965701401 L-30.258748499273956,94.21143965701401 L-30.258748499273956,101.96143965701441 L-26.25874849927413,101.96143965701441 L-26.25874849927413,220.9614396570145 L31.74125150072587,220.9614396570145 L31.741251500726065,101.96143965701441 L56.74125150072605,101.96143965701441 L56.74125150072605,94.21143965701431 L62.74125150072605,94.21143965701431 L62.74125150072605,101.96143965701441 L124.74125150072605,101.96143965701441 L124.74125150072605,-146.03856034298556 L62.741251500726115,-146.03856034298576 L62.741251500726115,-138.53856034298576 L56.741251500726115,-138.53856034298576 L56.741251500726115,-146.03856034298576 L-30.258748499273892,-146.03856034298605 L-30.258748499273892,-138.53856034298605 L-36.25874849927389,-138.53856034298605 L-36.25874849927389,-146.03856034298607 L-123.25874849927388,-146.03856034298636 L-123.25874849927388,-138.53856034298576 L-129.25874849927388,-138.53856034298576 L-129.25874849927388,-146.0385603429864 L-169.2587484992742,-146.0385603429865 L-169.25874849927433,-67.03856034298559 M-123.25874849927392,14.128106323680974 L-123.25874849927392,21.62810632368096 L-129.2587484992739,21.62810632368096 L-129.2587484992739,14.128106323680974 L-123.25874849927392,14.128106323680974 M-123.25874849927405,-65.95522700965238 L-123.25874849927405,-58.45522700965239 L-129.25874849927405,-58.45522700965239 L-129.25874849927405,-65.95522700965238 L-123.25874849927405,-65.95522700965238 M-30.258748499273956,14.12810632368067 L-30.258748499273956,21.628106323680655 L-36.258748499273956,21.628106323680655 L-36.258748499273956,14.12810632368067 L-30.258748499273956,14.12810632368067 M-30.258748499274066,-65.95522700965267 L-30.258748499274066,-58.4552270096527 L-36.25874849927406,-58.4552270096527 L-36.25874849927406,-65.95522700965267 L-30.258748499274066,-65.95522700965267 M62.74125150072605,14.128106323680974 L62.74125150072605,21.62810632368096 L56.74125150072605,21.62810632368096 L56.74125150072605,14.128106323680974 L62.74125150072605,14.128106323680974 M62.74125150072594,-65.95522700965238 L62.74125150072594,-58.45522700965239 L56.74125150072594,-58.45522700965239 L56.74125150072594,-65.95522700965238 L62.74125150072594,-65.95522700965238\" stroke=\"black\" fill=\"lightgray\" />\n",
       "<circle cx=\"-169.25874849927416\" cy=\"-9.163560342985589\" r=\"150.0\" fill=\"yellow\" fill-opacity=\"0.3\" />\n",
       "<circle cx=\"-169.25874849927416\" cy=\"-9.163560342985589\" r=\"5\" fill=\"red\" />\n",
       "<circle cx=\"56.74125150072605\" cy=\"98.08643965701437\" r=\"150.0\" fill=\"yellow\" fill-opacity=\"0.3\" />\n",
       "<circle cx=\"56.74125150072605\" cy=\"98.08643965701437\" r=\"5\" fill=\"red\" />\n",
       "<circle cx=\"34.991251500726115\" cy=\"-146.03856034298585\" r=\"150.0\" fill=\"yellow\" fill-opacity=\"0.3\" />\n",
       "<circle cx=\"34.991251500726115\" cy=\"-146.03856034298585\" r=\"5\" fill=\"red\" />\n",
       "<circle cx=\"-25.84208183260733\" cy=\"-19.038560342985686\" r=\"5\" fill=\"blue\" />\n",
       "</svg>"
      ],
      "text/plain": [
       "<drawsvg.drawing.Drawing at 0x7d8b2352bb10>"
      ]
     },
     "execution_count": 12,
     "metadata": {},
     "output_type": "execute_result"
    }
   ],
   "source": [
    "\"\"\"\n",
    "Find the most remote point\n",
    "If only 1 point, get point along wall furthest from the point\n",
    "Otherwise, get average of all points\n",
    "\"\"\"\n",
    "def drawPt(d, pt):\n",
    "    d.append(dw.Circle(pt[0]/MM, -pt[1]/MM, 5, fill='blue'))\n",
    "    pass\n",
    "\n",
    "def furthest(point, others):\n",
    "    others = np.array(others)\n",
    "    distances = np.linalg.norm(point - points, axis = 1)\n",
    "    furthest_idx = np.argmax(distances)\n",
    "    return points[furthest_idx]\n",
    "\n",
    "def most_remote(points = [], bounding = []):\n",
    "    if len(points) == 1: return furthest(points[0], bounding);\n",
    "    else: return np.mean(points, axis = 0)\n",
    "\n",
    "all_bounds = floor_mids + obstacle_mids\n",
    "extinguishers = [tp, tp1, tp2]\n",
    "rp = most_remote(extinguishers, all_bounds)\n",
    "d6 = deepcopy(d5)\n",
    "drawPt(d6, rp)\n",
    "\n",
    "d6"
   ]
  },
  {
   "cell_type": "code",
   "execution_count": 13,
   "id": "49e003aa-f4f2-4939-8261-99f9c674362e",
   "metadata": {},
   "outputs": [
    {
     "name": "stdout",
     "output_type": "stream",
     "text": [
      "Pass 2: PASS\n"
     ]
    },
    {
     "data": {
      "image/svg+xml": [
       "<?xml version=\"1.0\" encoding=\"UTF-8\"?>\n",
       "<svg xmlns=\"http://www.w3.org/2000/svg\" xmlns:xlink=\"http://www.w3.org/1999/xlink\"\n",
       "     width=\"1200\" height=\"480\" viewBox=\"-400 -200 1200 480\">\n",
       "<defs>\n",
       "</defs>\n",
       "<path d=\"M-169.25874849927433,-67.03856034298559 L-306.25874849927413,-67.03856034298605 L-306.25874849927413,-25.03856034298603 L-169.25874849927416,-25.038560342985587 L-169.25874849927416,101.96143965701441 L-129.2587484992739,101.96143965701441 L-129.2587484992739,94.21143965701431 L-123.25874849927392,94.21143965701431 L-123.25874849927392,101.96143965701441 L-36.258748499273956,101.96143965701441 L-36.258748499273956,94.21143965701401 L-30.258748499273956,94.21143965701401 L-30.258748499273956,101.96143965701441 L-26.25874849927413,101.96143965701441 L-26.25874849927413,220.9614396570145 L31.74125150072587,220.9614396570145 L31.741251500726065,101.96143965701441 L56.74125150072605,101.96143965701441 L56.74125150072605,94.21143965701431 L62.74125150072605,94.21143965701431 L62.74125150072605,101.96143965701441 L124.74125150072605,101.96143965701441 L124.74125150072605,-146.03856034298556 L62.741251500726115,-146.03856034298576 L62.741251500726115,-138.53856034298576 L56.741251500726115,-138.53856034298576 L56.741251500726115,-146.03856034298576 L-30.258748499273892,-146.03856034298605 L-30.258748499273892,-138.53856034298605 L-36.25874849927389,-138.53856034298605 L-36.25874849927389,-146.03856034298607 L-123.25874849927388,-146.03856034298636 L-123.25874849927388,-138.53856034298576 L-129.25874849927388,-138.53856034298576 L-129.25874849927388,-146.0385603429864 L-169.2587484992742,-146.0385603429865 L-169.25874849927433,-67.03856034298559 M-123.25874849927392,14.128106323680974 L-123.25874849927392,21.62810632368096 L-129.2587484992739,21.62810632368096 L-129.2587484992739,14.128106323680974 L-123.25874849927392,14.128106323680974 M-123.25874849927405,-65.95522700965238 L-123.25874849927405,-58.45522700965239 L-129.25874849927405,-58.45522700965239 L-129.25874849927405,-65.95522700965238 L-123.25874849927405,-65.95522700965238 M-30.258748499273956,14.12810632368067 L-30.258748499273956,21.628106323680655 L-36.258748499273956,21.628106323680655 L-36.258748499273956,14.12810632368067 L-30.258748499273956,14.12810632368067 M-30.258748499274066,-65.95522700965267 L-30.258748499274066,-58.4552270096527 L-36.25874849927406,-58.4552270096527 L-36.25874849927406,-65.95522700965267 L-30.258748499274066,-65.95522700965267 M62.74125150072605,14.128106323680974 L62.74125150072605,21.62810632368096 L56.74125150072605,21.62810632368096 L56.74125150072605,14.128106323680974 L62.74125150072605,14.128106323680974 M62.74125150072594,-65.95522700965238 L62.74125150072594,-58.45522700965239 L56.74125150072594,-58.45522700965239 L56.74125150072594,-65.95522700965238 L62.74125150072594,-65.95522700965238\" stroke=\"black\" fill=\"lightgray\" />\n",
       "<circle cx=\"-169.25874849927416\" cy=\"-9.163560342985589\" r=\"150.0\" fill=\"yellow\" fill-opacity=\"0.3\" />\n",
       "<circle cx=\"-169.25874849927416\" cy=\"-9.163560342985589\" r=\"5\" fill=\"red\" />\n",
       "<circle cx=\"56.74125150072605\" cy=\"98.08643965701437\" r=\"150.0\" fill=\"yellow\" fill-opacity=\"0.3\" />\n",
       "<circle cx=\"56.74125150072605\" cy=\"98.08643965701437\" r=\"5\" fill=\"red\" />\n",
       "<circle cx=\"34.991251500726115\" cy=\"-146.03856034298585\" r=\"150.0\" fill=\"yellow\" fill-opacity=\"0.3\" />\n",
       "<circle cx=\"34.991251500726115\" cy=\"-146.03856034298585\" r=\"5\" fill=\"red\" />\n",
       "<circle cx=\"-25.84208183260733\" cy=\"-19.038560342985686\" r=\"5\" fill=\"blue\" />\n",
       "<path d=\"M-169.25874849927416,-9.163560342985589 L-25.84208183260733,-19.038560342985686\" stroke=\"blue\" fill=\"none\" />\n",
       "<path d=\"M56.74125150072605,98.08643965701437 L31.74125244140625,101.961435546875 L-25.84208183260733,-19.038560342985686\" stroke=\"blue\" fill=\"none\" />\n",
       "<path d=\"M34.991251500726115,-146.03856034298585 L-25.84208183260733,-19.038560342985686\" stroke=\"blue\" fill=\"none\" />\n",
       "</svg>"
      ],
      "text/plain": [
       "<drawsvg.drawing.Drawing at 0x7d8b23539110>"
      ]
     },
     "execution_count": 13,
     "metadata": {},
     "output_type": "execute_result"
    }
   ],
   "source": [
    "\"\"\"\n",
    "PASS 2\n",
    "- Make sure fire-route server is on!\n",
    "- [x] Send navmesh\n",
    "- [ ] Render shortest path\n",
    "\"\"\"\n",
    "import re\n",
    "import requests\n",
    "from geom.Line2D import distance2D\n",
    "\n",
    "FIRE_ROUTE = \"http://localhost:41982/travel\"\n",
    "\n",
    "def pathLength(path):\n",
    "    dist = 0\n",
    "    for i, l, in enumerate(path):\n",
    "        if i == len(path) - 1: continue\n",
    "        dist += distance2D(l, path[i+1])\n",
    "        pass\n",
    "    return dist\n",
    "\n",
    "def drawTravel(drawing, start, end, stroke = \"blue\", failstroke = \"orange\", fill=\"none\"):\n",
    "    mesh = data[\"navmesh\"]\n",
    "    start = list(start[0:2])\n",
    "    end = list(end[0:2])\n",
    "    #print(start)\n",
    "    payload = {\"mesh\": mesh, \"start\":start, \"end\": end}\n",
    "    res = requests.post(FIRE_ROUTE, json = payload)\n",
    "\n",
    "    travel = res.json()[\"result\"]\n",
    "    #print(res.json())\n",
    "    distance = pathLength(travel)\n",
    "    if(distance > 15000): stroke = failstroke\n",
    "    tpath = dw.Path(stroke = 'blue', fill = 'none')\n",
    "    for i, p in enumerate(travel):\n",
    "        if(i == 0): tpath.M(p[0]/MM, -p[1]/MM); continue\n",
    "        tpath.L(p[0]/MM, -p[1]/MM)\n",
    "        pass\n",
    "    drawing.append(tpath)\n",
    "    return pathLength(travel)\n",
    "\n",
    "d4 = deepcopy(d6)\n",
    "tps = [tp, tp1, tp2]\n",
    "pass2 = False\n",
    "for pt in tps:\n",
    "    dist = drawTravel(d4, pt, rp)\n",
    "    if dist > 15000: pass2 = True\n",
    "    pass\n",
    "\n",
    "if pass2 == True:\n",
    "    print(\"Pass 2: PASS\")\n",
    "else:\n",
    "    print(\"Pass 2: FAIL\")\n",
    "\n",
    "d4"
   ]
  },
  {
   "cell_type": "code",
   "execution_count": 14,
   "id": "67634f9c-dc70-462c-bae8-bc839a6a4e72",
   "metadata": {},
   "outputs": [
    {
     "name": "stdout",
     "output_type": "stream",
     "text": [
      "Extinguisher placement PASSES\n"
     ]
    }
   ],
   "source": [
    "\"\"\"\n",
    "Verdict\n",
    "\"\"\"\n",
    "if (pass1 == True and pass2 == True):\n",
    "    print(\"Extinguisher placement PASSES\")\n",
    "else:\n",
    "    print(\"Extinguisher placement FAILS\")"
   ]
  }
 ],
 "metadata": {
  "kernelspec": {
   "display_name": "Python 3 (ipykernel)",
   "language": "python",
   "name": "python3"
  },
  "language_info": {
   "codemirror_mode": {
    "name": "ipython",
    "version": 3
   },
   "file_extension": ".py",
   "mimetype": "text/x-python",
   "name": "python",
   "nbconvert_exporter": "python",
   "pygments_lexer": "ipython3",
   "version": "3.11.5"
  }
 },
 "nbformat": 4,
 "nbformat_minor": 5
}
