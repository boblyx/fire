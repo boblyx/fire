{
 "cells": [
  {
   "cell_type": "code",
   "execution_count": 1,
   "id": "a4e5d4a5-3e73-4d57-a023-5d078779781c",
   "metadata": {
    "scrolled": true
   },
   "outputs": [
    {
     "data": {
      "image/svg+xml": [
       "<?xml version=\"1.0\" encoding=\"UTF-8\"?>\n",
       "<svg xmlns=\"http://www.w3.org/2000/svg\" xmlns:xlink=\"http://www.w3.org/1999/xlink\"\n",
       "     width=\"1200\" height=\"480\" viewBox=\"-200 -200 1200 480\">\n",
       "<defs>\n",
       "</defs>\n",
       "<path d=\"M37.97,-57.42 L0.0,-57.42 L0.0,0.0 L75.95,0.0 L75.95,-57.42 L136.24,-57.42 L136.24,-118.29 L150.41,-118.29 L150.41,-187.11 L99.38,-187.11 L99.38,-118.29 L37.97,-118.29 L37.97,-57.42\" fill=\"yellow\" fill-opacity=\"0.3\" stroke=\"black\" />\n",
       "</svg>"
      ],
      "text/plain": [
       "<drawsvg.drawing.Drawing at 0x7dca155dcf10>"
      ]
     },
     "execution_count": 1,
     "metadata": {},
     "output_type": "execute_result"
    }
   ],
   "source": [
    "\"\"\"\n",
    "Synth.ipynb\n",
    "- [x] Generate rooms using boolean unions\n",
    "- [x] Pick random extinguisher placements\n",
    "- [ ] Calculate remote locations\n",
    "- [ ] Deliver verdict\n",
    "- [ ] Export to JSON dataset.\n",
    "\"\"\"\n",
    "__author__ = \"Bob YX Lee\"\n",
    "import sys\n",
    "import os\n",
    "import json\n",
    "import drawsvg as dw\n",
    "import random\n",
    "from copy import deepcopy\n",
    "\n",
    "sys.path.append(\"./packages\")\n",
    "\n",
    "from geom.Line2D import Line2D, drawPt\n",
    "from geom import Poly2D, Bool2D\n",
    "from geom.Room import Room\n",
    "import numpy as np\n",
    "import pyclipper\n",
    "\n",
    "\"\"\"\n",
    "Generation logic\n",
    "- Generate a randomly sized rectangle\n",
    "- Pick a random point along the walls divided into 5m pieces\n",
    "- Generate another random rectangle\n",
    "- Place it at the point\n",
    "- Execute boolean union\n",
    "- Repeat\n",
    "\"\"\"\n",
    "SCALE = 100\n",
    "DIVLEN = 500\n",
    "\n",
    "WIDTHS = list(range(5000,10000))\n",
    "DEPTHS = list(range(5000,7000))\n",
    "\n",
    "def newCanvas():\n",
    "    return dw.Drawing(1200, 480, origin = (-SCALE*2, -SCALE*2))\n",
    "\n",
    "d = newCanvas()\n",
    "\n",
    "room = Room.random(2)\n",
    "Poly2D.drawPath(d, room.vertices, True)\n",
    "\n",
    "d"
   ]
  },
  {
   "cell_type": "code",
   "execution_count": 2,
   "id": "23370689-6965-4a3b-a852-fa2264da473d",
   "metadata": {},
   "outputs": [
    {
     "name": "stdout",
     "output_type": "stream",
     "text": [
      "[[3797, 5742], [0, 5742], [0, 0], [7595, 0], [7595, 5742], [13624, 5742], [13624, 11829], [15041, 11829], [15041, 18711], [9938, 18711], [9938, 11829], [3797, 11829]]\n"
     ]
    },
    {
     "data": {
      "image/svg+xml": [
       "<?xml version=\"1.0\" encoding=\"UTF-8\"?>\n",
       "<svg xmlns=\"http://www.w3.org/2000/svg\" xmlns:xlink=\"http://www.w3.org/1999/xlink\"\n",
       "     width=\"1200\" height=\"480\" viewBox=\"-200 -200 1200 480\">\n",
       "<defs>\n",
       "</defs>\n",
       "<path d=\"M37.97,-57.42 L0.0,-57.42 L0.0,0.0 L75.95,0.0 L75.95,-57.42 L136.24,-57.42 L136.24,-118.29 L150.41,-118.29 L150.41,-187.11 L99.38,-187.11 L99.38,-118.29 L37.97,-118.29 L37.97,-57.42\" fill=\"yellow\" fill-opacity=\"0.3\" stroke=\"black\" />\n",
       "<circle cx=\"31.64166666666667\" cy=\"-57.42\" r=\"5\" fill=\"blue\" />\n",
       "<circle cx=\"18.985000000000003\" cy=\"-57.42\" r=\"5\" fill=\"blue\" />\n",
       "<circle cx=\"6.328333333333335\" cy=\"-57.42\" r=\"5\" fill=\"blue\" />\n",
       "<circle cx=\"0.0\" cy=\"-51.678000000000004\" r=\"5\" fill=\"blue\" />\n",
       "<circle cx=\"0.0\" cy=\"-40.194\" r=\"5\" fill=\"blue\" />\n",
       "<circle cx=\"0.0\" cy=\"-28.71\" r=\"5\" fill=\"blue\" />\n",
       "<circle cx=\"0.0\" cy=\"-17.226\" r=\"5\" fill=\"blue\" />\n",
       "<circle cx=\"0.0\" cy=\"-5.741999999999998\" r=\"5\" fill=\"blue\" />\n",
       "<circle cx=\"5.425\" cy=\"-0.0\" r=\"5\" fill=\"blue\" />\n",
       "<circle cx=\"16.275\" cy=\"-0.0\" r=\"5\" fill=\"blue\" />\n",
       "<circle cx=\"27.125\" cy=\"-0.0\" r=\"5\" fill=\"blue\" />\n",
       "<circle cx=\"37.975\" cy=\"-0.0\" r=\"5\" fill=\"blue\" />\n",
       "<circle cx=\"48.825\" cy=\"-0.0\" r=\"5\" fill=\"blue\" />\n",
       "<circle cx=\"59.675\" cy=\"-0.0\" r=\"5\" fill=\"blue\" />\n",
       "<circle cx=\"70.525\" cy=\"-0.0\" r=\"5\" fill=\"blue\" />\n",
       "<circle cx=\"75.95\" cy=\"-5.742000000000001\" r=\"5\" fill=\"blue\" />\n",
       "<circle cx=\"75.95\" cy=\"-17.226000000000003\" r=\"5\" fill=\"blue\" />\n",
       "<circle cx=\"75.95\" cy=\"-28.71\" r=\"5\" fill=\"blue\" />\n",
       "<circle cx=\"75.95\" cy=\"-40.194\" r=\"5\" fill=\"blue\" />\n",
       "<circle cx=\"75.95\" cy=\"-51.678000000000004\" r=\"5\" fill=\"blue\" />\n",
       "<circle cx=\"80.97416666666668\" cy=\"-57.42\" r=\"5\" fill=\"blue\" />\n",
       "<circle cx=\"91.0225\" cy=\"-57.42\" r=\"5\" fill=\"blue\" />\n",
       "<circle cx=\"101.07083333333333\" cy=\"-57.42\" r=\"5\" fill=\"blue\" />\n",
       "<circle cx=\"111.11916666666666\" cy=\"-57.42\" r=\"5\" fill=\"blue\" />\n",
       "<circle cx=\"121.1675\" cy=\"-57.42\" r=\"5\" fill=\"blue\" />\n",
       "<circle cx=\"131.21583333333334\" cy=\"-57.42\" r=\"5\" fill=\"blue\" />\n",
       "<circle cx=\"136.24\" cy=\"-62.4925\" r=\"5\" fill=\"blue\" />\n",
       "<circle cx=\"136.24\" cy=\"-72.6375\" r=\"5\" fill=\"blue\" />\n",
       "<circle cx=\"136.24\" cy=\"-82.7825\" r=\"5\" fill=\"blue\" />\n",
       "<circle cx=\"136.24\" cy=\"-92.9275\" r=\"5\" fill=\"blue\" />\n",
       "<circle cx=\"136.24\" cy=\"-103.0725\" r=\"5\" fill=\"blue\" />\n",
       "<circle cx=\"136.24\" cy=\"-113.2175\" r=\"5\" fill=\"blue\" />\n",
       "<circle cx=\"143.325\" cy=\"-118.29\" r=\"5\" fill=\"blue\" />\n",
       "<circle cx=\"150.41\" cy=\"-124.025\" r=\"5\" fill=\"blue\" />\n",
       "<circle cx=\"150.41\" cy=\"-135.495\" r=\"5\" fill=\"blue\" />\n",
       "<circle cx=\"150.41\" cy=\"-146.965\" r=\"5\" fill=\"blue\" />\n",
       "<circle cx=\"150.41\" cy=\"-158.435\" r=\"5\" fill=\"blue\" />\n",
       "<circle cx=\"150.41\" cy=\"-169.905\" r=\"5\" fill=\"blue\" />\n",
       "<circle cx=\"150.41\" cy=\"-181.375\" r=\"5\" fill=\"blue\" />\n",
       "<circle cx=\"145.30700000000002\" cy=\"-187.11\" r=\"5\" fill=\"blue\" />\n",
       "<circle cx=\"135.101\" cy=\"-187.11\" r=\"5\" fill=\"blue\" />\n",
       "<circle cx=\"124.895\" cy=\"-187.11\" r=\"5\" fill=\"blue\" />\n",
       "<circle cx=\"114.68900000000002\" cy=\"-187.11\" r=\"5\" fill=\"blue\" />\n",
       "<circle cx=\"104.48299999999999\" cy=\"-187.11\" r=\"5\" fill=\"blue\" />\n",
       "<circle cx=\"99.38\" cy=\"-181.375\" r=\"5\" fill=\"blue\" />\n",
       "<circle cx=\"99.38\" cy=\"-169.905\" r=\"5\" fill=\"blue\" />\n",
       "<circle cx=\"99.38\" cy=\"-158.435\" r=\"5\" fill=\"blue\" />\n",
       "<circle cx=\"99.38\" cy=\"-146.965\" r=\"5\" fill=\"blue\" />\n",
       "<circle cx=\"99.38\" cy=\"-135.495\" r=\"5\" fill=\"blue\" />\n",
       "<circle cx=\"99.38\" cy=\"-124.025\" r=\"5\" fill=\"blue\" />\n",
       "<circle cx=\"94.2625\" cy=\"-118.29\" r=\"5\" fill=\"blue\" />\n",
       "<circle cx=\"84.0275\" cy=\"-118.29\" r=\"5\" fill=\"blue\" />\n",
       "<circle cx=\"73.7925\" cy=\"-118.29\" r=\"5\" fill=\"blue\" />\n",
       "<circle cx=\"63.5575\" cy=\"-118.29\" r=\"5\" fill=\"blue\" />\n",
       "<circle cx=\"53.3225\" cy=\"-118.29\" r=\"5\" fill=\"blue\" />\n",
       "<circle cx=\"43.0875\" cy=\"-118.29\" r=\"5\" fill=\"blue\" />\n",
       "<circle cx=\"37.97\" cy=\"-113.2175\" r=\"5\" fill=\"blue\" />\n",
       "<circle cx=\"37.97\" cy=\"-103.0725\" r=\"5\" fill=\"blue\" />\n",
       "<circle cx=\"37.97\" cy=\"-92.9275\" r=\"5\" fill=\"blue\" />\n",
       "<circle cx=\"37.97\" cy=\"-82.7825\" r=\"5\" fill=\"blue\" />\n",
       "<circle cx=\"37.97\" cy=\"-72.6375\" r=\"5\" fill=\"blue\" />\n",
       "<circle cx=\"37.97\" cy=\"-62.4925\" r=\"5\" fill=\"blue\" />\n",
       "</svg>"
      ],
      "text/plain": [
       "<drawsvg.drawing.Drawing at 0x7dca155dc250>"
      ]
     },
     "execution_count": 2,
     "metadata": {},
     "output_type": "execute_result"
    }
   ],
   "source": [
    "print(room.vertices)\n",
    "room.gExtSlots(1000)\n",
    "d3 = deepcopy(d)\n",
    "for p in room.ext_slots:\n",
    "    drawPt(d3, p)\n",
    "    pass\n",
    "d3"
   ]
  },
  {
   "cell_type": "code",
   "execution_count": 3,
   "id": "a6fe243b-5549-4f2c-824c-9d502cd93876",
   "metadata": {},
   "outputs": [
    {
     "name": "stdout",
     "output_type": "stream",
     "text": [
      "{'result': True, 'diff': []}\n"
     ]
    },
    {
     "data": {
      "image/svg+xml": [
       "<?xml version=\"1.0\" encoding=\"UTF-8\"?>\n",
       "<svg xmlns=\"http://www.w3.org/2000/svg\" xmlns:xlink=\"http://www.w3.org/1999/xlink\"\n",
       "     width=\"1200\" height=\"480\" viewBox=\"-200 -200 1200 480\">\n",
       "<defs>\n",
       "</defs>\n",
       "<path d=\"M37.97,-57.42 L0.0,-57.42 L0.0,0.0 L75.95,0.0 L75.95,-57.42 L136.24,-57.42 L136.24,-118.29 L150.41,-118.29 L150.41,-187.11 L99.38,-187.11 L99.38,-118.29 L37.97,-118.29 L37.97,-57.42\" fill=\"yellow\" fill-opacity=\"0.3\" stroke=\"black\" />\n",
       "<circle cx=\"136.24\" cy=\"-72.6375\" r=\"5\" fill=\"blue\" />\n",
       "<circle cx=\"37.97\" cy=\"-92.9275\" r=\"5\" fill=\"blue\" />\n",
       "</svg>"
      ],
      "text/plain": [
       "<drawsvg.drawing.Drawing at 0x7dca15548cd0>"
      ]
     },
     "execution_count": 3,
     "metadata": {},
     "output_type": "execute_result"
    }
   ],
   "source": [
    "\"\"\"\n",
    "Pick random 1 - 3 slots and make verdict for coverage check\n",
    "TODO:\n",
    "- [ ] Generate score based on num exts used to comply\n",
    "\"\"\"\n",
    "pick_num = random.randint(1,3)\n",
    "exts = random.sample(room.ext_slots, pick_num)\n",
    "d4 = deepcopy(d)\n",
    "for p in exts:\n",
    "    drawPt(d4, p)\n",
    "\n",
    "chk1 = room.extCoverChk(exts)\n",
    "\n",
    "print(chk1)\n",
    "\n",
    "d4\n"
   ]
  },
  {
   "cell_type": "code",
   "execution_count": null,
   "id": "5ba264a4-bfc6-4f48-a364-d278f580afe1",
   "metadata": {},
   "outputs": [],
   "source": [
    "\"\"\"\n",
    "Compute travel paths and deliver 2nd verdict\n",
    "\"\"\"\n",
    "print(\"WIP\")"
   ]
  }
 ],
 "metadata": {
  "kernelspec": {
   "display_name": "Python 3 (ipykernel)",
   "language": "python",
   "name": "python3"
  },
  "language_info": {
   "codemirror_mode": {
    "name": "ipython",
    "version": 3
   },
   "file_extension": ".py",
   "mimetype": "text/x-python",
   "name": "python",
   "nbconvert_exporter": "python",
   "pygments_lexer": "ipython3",
   "version": "3.11.5"
  }
 },
 "nbformat": 4,
 "nbformat_minor": 5
}
