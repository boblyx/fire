{
 "cells": [
  {
   "cell_type": "code",
   "execution_count": 4,
   "id": "a4e5d4a5-3e73-4d57-a023-5d078779781c",
   "metadata": {
    "scrolled": true
   },
   "outputs": [
    {
     "name": "stdout",
     "output_type": "stream",
     "text": [
      "[[0, 0], [0, 5060], [7844, 5060], [7844, 0]]\n",
      "2\n"
     ]
    },
    {
     "data": {
      "image/svg+xml": [
       "<?xml version=\"1.0\" encoding=\"UTF-8\"?>\n",
       "<svg xmlns=\"http://www.w3.org/2000/svg\" xmlns:xlink=\"http://www.w3.org/1999/xlink\"\n",
       "     width=\"1200\" height=\"480\" viewBox=\"-200 -200 1200 480\">\n",
       "<defs>\n",
       "</defs>\n",
       "<path d=\"M78.44,-32.89 L148.66,-32.89 L148.66,-96.89 L78.44,-96.89 L78.44,-50.6 L0.0,-50.6 L0.0,0.0 L78.44,0.0 L78.44,-32.89\" fill=\"yellow\" fill-opacity=\"0.3\" stroke=\"black\" />\n",
       "</svg>"
      ],
      "text/plain": [
       "<drawsvg.drawing.Drawing at 0x77a32407e450>"
      ]
     },
     "execution_count": 4,
     "metadata": {},
     "output_type": "execute_result"
    }
   ],
   "source": [
    "\"\"\"\n",
    "Synth.ipynb\n",
    "- [ ] Generate rooms using boolean unions\n",
    "- [ ] Pick random extinguisher placements\n",
    "- [ ] Calculate remote locations\n",
    "- [ ] Deliver verdict\n",
    "- [ ] Export to JSON dataset.\n",
    "\"\"\"\n",
    "__author__ = \"Bob YX Lee\"\n",
    "import sys\n",
    "import os\n",
    "import json\n",
    "import drawsvg as dw\n",
    "import random\n",
    "from copy import deepcopy\n",
    "\n",
    "sys.path.append(\"./packages\")\n",
    "\n",
    "from geom.Line2D import Line2D, drawPt\n",
    "from geom import Poly2D, Bool2D\n",
    "import numpy as np\n",
    "import pyclipper\n",
    "\n",
    "\"\"\"\n",
    "Generation logic\n",
    "- Generate a randomly sized rectangle\n",
    "- Pick a random point along the walls divided into 5m pieces\n",
    "- Generate another random rectangle\n",
    "- Place it at the point\n",
    "- Execute boolean union\n",
    "- Repeat\n",
    "\"\"\"\n",
    "SCALE = 100\n",
    "DIVLEN = 500\n",
    "\n",
    "WIDTHS = list(range(5000,10000))\n",
    "DEPTHS = list(range(5000,7000))\n",
    "\n",
    "def newCanvas():\n",
    "    return dw.Drawing(1200, 480, origin = (-SCALE*2, -SCALE*2))\n",
    "\n",
    "def randRect(origin = [0,0]):\n",
    "    return Poly2D.rect2D(random.choice(WIDTHS), random.choice(DEPTHS), origin)\n",
    "\n",
    "d = newCanvas()\n",
    "rect = randRect()\n",
    "print(rect)\n",
    "Poly2D.drawPath(d, rect, True, fill = \"gray\", fill_opacity=1)\n",
    "\n",
    "lines = Poly2D.getLines(rect, True)\n",
    "\n",
    "#print(lines)\n",
    "divvy = []\n",
    "\n",
    "side = random.choice(list(range(len(lines))))\n",
    "print(side)\n",
    "\n",
    "divvy.extend(lines[side].divideByLength(DIVLEN))\n",
    "pts = [l.mid for l in divvy]\n",
    "expt = random.choice(pts)\n",
    "\n",
    "# Just union them and don't think too much about it.\n",
    "rect2 = randRect(expt)\n",
    "Poly2D.drawPath(d, rect2, True)\n",
    "result = Bool2D.union([rect, rect2])\n",
    "\n",
    "d2 = newCanvas()\n",
    "for r in result:\n",
    "    Poly2D.drawPath(d2, r, True)\n",
    "\n",
    "d2"
   ]
  }
 ],
 "metadata": {
  "kernelspec": {
   "display_name": "Python 3 (ipykernel)",
   "language": "python",
   "name": "python3"
  },
  "language_info": {
   "codemirror_mode": {
    "name": "ipython",
    "version": 3
   },
   "file_extension": ".py",
   "mimetype": "text/x-python",
   "name": "python",
   "nbconvert_exporter": "python",
   "pygments_lexer": "ipython3",
   "version": "3.11.5"
  }
 },
 "nbformat": 4,
 "nbformat_minor": 5
}
