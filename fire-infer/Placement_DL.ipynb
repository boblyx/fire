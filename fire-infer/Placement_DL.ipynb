{
  "cells": [
    {
      "cell_type": "markdown",
      "id": "3951bf50",
      "metadata": {
        "id": "3951bf50"
      },
      "source": [
        "# Fire AI - DL Models Trial"
      ]
    },
    {
      "cell_type": "markdown",
      "id": "5690c4f5",
      "metadata": {
        "id": "5690c4f5"
      },
      "source": [
        "### Import Libraries"
      ]
    },
    {
      "cell_type": "code",
      "execution_count": null,
      "id": "bf53402d",
      "metadata": {
        "id": "bf53402d",
        "outputId": "4fc10395-2181-46bc-ee6f-f8281d09070a"
      },
      "outputs": [
        {
          "name": "stdout",
          "output_type": "stream",
          "text": [
            "Requirement already satisfied: pip in /Users/yuji/anaconda3/lib/python3.10/site-packages (24.0)\n",
            "Note: you may need to restart the kernel to use updated packages.\n"
          ]
        }
      ],
      "source": [
        "pip install --upgrade pip"
      ]
    },
    {
      "cell_type": "code",
      "execution_count": null,
      "id": "00f0035b",
      "metadata": {
        "scrolled": true,
        "id": "00f0035b",
        "outputId": "5b836c49-9fa0-49e4-e591-8e630d325864"
      },
      "outputs": [
        {
          "name": "stdout",
          "output_type": "stream",
          "text": [
            "Requirement already satisfied: tensorflow in /Users/yuji/anaconda3/lib/python3.10/site-packages (2.16.1)\n",
            "Requirement already satisfied: absl-py>=1.0.0 in /Users/yuji/anaconda3/lib/python3.10/site-packages (from tensorflow) (2.1.0)\n",
            "Requirement already satisfied: astunparse>=1.6.0 in /Users/yuji/anaconda3/lib/python3.10/site-packages (from tensorflow) (1.6.3)\n",
            "Requirement already satisfied: flatbuffers>=23.5.26 in /Users/yuji/anaconda3/lib/python3.10/site-packages (from tensorflow) (24.3.25)\n",
            "Requirement already satisfied: gast!=0.5.0,!=0.5.1,!=0.5.2,>=0.2.1 in /Users/yuji/anaconda3/lib/python3.10/site-packages (from tensorflow) (0.5.4)\n",
            "Requirement already satisfied: google-pasta>=0.1.1 in /Users/yuji/anaconda3/lib/python3.10/site-packages (from tensorflow) (0.2.0)\n",
            "Requirement already satisfied: h5py>=3.10.0 in /Users/yuji/anaconda3/lib/python3.10/site-packages (from tensorflow) (3.10.0)\n",
            "Requirement already satisfied: libclang>=13.0.0 in /Users/yuji/anaconda3/lib/python3.10/site-packages (from tensorflow) (18.1.1)\n",
            "Requirement already satisfied: ml-dtypes~=0.3.1 in /Users/yuji/anaconda3/lib/python3.10/site-packages (from tensorflow) (0.3.2)\n",
            "Requirement already satisfied: opt-einsum>=2.3.2 in /Users/yuji/anaconda3/lib/python3.10/site-packages (from tensorflow) (3.3.0)\n",
            "Requirement already satisfied: packaging in /Users/yuji/anaconda3/lib/python3.10/site-packages (from tensorflow) (22.0)\n",
            "Requirement already satisfied: protobuf!=4.21.0,!=4.21.1,!=4.21.2,!=4.21.3,!=4.21.4,!=4.21.5,<5.0.0dev,>=3.20.3 in /Users/yuji/anaconda3/lib/python3.10/site-packages (from tensorflow) (3.20.3)\n",
            "Requirement already satisfied: requests<3,>=2.21.0 in /Users/yuji/anaconda3/lib/python3.10/site-packages (from tensorflow) (2.28.1)\n",
            "Requirement already satisfied: setuptools in /Users/yuji/anaconda3/lib/python3.10/site-packages (from tensorflow) (65.6.3)\n",
            "Requirement already satisfied: six>=1.12.0 in /Users/yuji/anaconda3/lib/python3.10/site-packages (from tensorflow) (1.16.0)\n",
            "Requirement already satisfied: termcolor>=1.1.0 in /Users/yuji/anaconda3/lib/python3.10/site-packages (from tensorflow) (2.4.0)\n",
            "Requirement already satisfied: typing-extensions>=3.6.6 in /Users/yuji/anaconda3/lib/python3.10/site-packages (from tensorflow) (4.9.0)\n",
            "Requirement already satisfied: wrapt>=1.11.0 in /Users/yuji/anaconda3/lib/python3.10/site-packages (from tensorflow) (1.14.1)\n",
            "Requirement already satisfied: grpcio<2.0,>=1.24.3 in /Users/yuji/anaconda3/lib/python3.10/site-packages (from tensorflow) (1.62.1)\n",
            "Requirement already satisfied: tensorboard<2.17,>=2.16 in /Users/yuji/anaconda3/lib/python3.10/site-packages (from tensorflow) (2.16.2)\n",
            "Requirement already satisfied: keras>=3.0.0 in /Users/yuji/anaconda3/lib/python3.10/site-packages (from tensorflow) (3.2.0)\n",
            "Requirement already satisfied: tensorflow-io-gcs-filesystem>=0.23.1 in /Users/yuji/anaconda3/lib/python3.10/site-packages (from tensorflow) (0.36.0)\n",
            "Requirement already satisfied: numpy<2.0.0,>=1.23.5 in /Users/yuji/anaconda3/lib/python3.10/site-packages (from tensorflow) (1.23.5)\n",
            "Requirement already satisfied: wheel<1.0,>=0.23.0 in /Users/yuji/anaconda3/lib/python3.10/site-packages (from astunparse>=1.6.0->tensorflow) (0.38.4)\n",
            "Requirement already satisfied: rich in /Users/yuji/anaconda3/lib/python3.10/site-packages (from keras>=3.0.0->tensorflow) (13.6.0)\n",
            "Requirement already satisfied: namex in /Users/yuji/anaconda3/lib/python3.10/site-packages (from keras>=3.0.0->tensorflow) (0.0.7)\n",
            "Requirement already satisfied: optree in /Users/yuji/anaconda3/lib/python3.10/site-packages (from keras>=3.0.0->tensorflow) (0.11.0)\n",
            "Requirement already satisfied: charset-normalizer<3,>=2 in /Users/yuji/anaconda3/lib/python3.10/site-packages (from requests<3,>=2.21.0->tensorflow) (2.0.4)\n",
            "Requirement already satisfied: idna<4,>=2.5 in /Users/yuji/anaconda3/lib/python3.10/site-packages (from requests<3,>=2.21.0->tensorflow) (3.4)\n",
            "Requirement already satisfied: urllib3<1.27,>=1.21.1 in /Users/yuji/anaconda3/lib/python3.10/site-packages (from requests<3,>=2.21.0->tensorflow) (1.26.14)\n",
            "Requirement already satisfied: certifi>=2017.4.17 in /Users/yuji/anaconda3/lib/python3.10/site-packages (from requests<3,>=2.21.0->tensorflow) (2022.12.7)\n",
            "Requirement already satisfied: markdown>=2.6.8 in /Users/yuji/anaconda3/lib/python3.10/site-packages (from tensorboard<2.17,>=2.16->tensorflow) (3.4.1)\n",
            "Requirement already satisfied: tensorboard-data-server<0.8.0,>=0.7.0 in /Users/yuji/anaconda3/lib/python3.10/site-packages (from tensorboard<2.17,>=2.16->tensorflow) (0.7.2)\n",
            "Requirement already satisfied: werkzeug>=1.0.1 in /Users/yuji/anaconda3/lib/python3.10/site-packages (from tensorboard<2.17,>=2.16->tensorflow) (2.2.2)\n",
            "Requirement already satisfied: MarkupSafe>=2.1.1 in /Users/yuji/anaconda3/lib/python3.10/site-packages (from werkzeug>=1.0.1->tensorboard<2.17,>=2.16->tensorflow) (2.1.1)\n",
            "Requirement already satisfied: markdown-it-py>=2.2.0 in /Users/yuji/anaconda3/lib/python3.10/site-packages (from rich->keras>=3.0.0->tensorflow) (3.0.0)\n",
            "Requirement already satisfied: pygments<3.0.0,>=2.13.0 in /Users/yuji/anaconda3/lib/python3.10/site-packages (from rich->keras>=3.0.0->tensorflow) (2.16.1)\n",
            "Requirement already satisfied: mdurl~=0.1 in /Users/yuji/anaconda3/lib/python3.10/site-packages (from markdown-it-py>=2.2.0->rich->keras>=3.0.0->tensorflow) (0.1.2)\n",
            "Note: you may need to restart the kernel to use updated packages.\n"
          ]
        }
      ],
      "source": [
        "pip install tensorflow"
      ]
    },
    {
      "cell_type": "code",
      "execution_count": null,
      "id": "1a82ecd8",
      "metadata": {
        "id": "1a82ecd8"
      },
      "outputs": [],
      "source": [
        "import json\n",
        "import logging\n",
        "import numpy as np\n",
        "import pandas as pd\n",
        "import matplotlib.pyplot as plt\n",
        "from shapely.geometry import Polygon, Point\n",
        "from tensorflow.keras.models import Sequential\n",
        "from tensorflow.keras.layers import Input, Conv2D, MaxPooling2D, UpSampling2D, Conv2DTranspose, concatenate, ZeroPadding2D\n"
      ]
    },
    {
      "cell_type": "markdown",
      "id": "38b10bb2",
      "metadata": {
        "id": "38b10bb2"
      },
      "source": [
        "### Load Dataset"
      ]
    },
    {
      "cell_type": "code",
      "execution_count": null,
      "id": "4ebe40e7",
      "metadata": {
        "id": "4ebe40e7",
        "outputId": "c65269eb-1a1f-4123-b16a-e92dbdbcd2b4"
      },
      "outputs": [
        {
          "name": "stdout",
          "output_type": "stream",
          "text": [
            "  date_generated                                               data\n",
            "0     2024-03-24  {'id': '78a81cb9-e87e-4799-90fb-ef7d2a92be8f',...\n",
            "1     2024-03-24  {'id': '55403f4e-9722-42b7-bed3-11d18514e012',...\n",
            "2     2024-03-24  {'id': '9c611343-eeb9-4804-b7ac-c6a54931c73d',...\n",
            "3     2024-03-24  {'id': '4891427b-0339-4405-b51d-e7d53dbb0e21',...\n",
            "4     2024-03-24  {'id': '31ff0ffb-c94b-4dd5-9e67-cb8c590d5c6d',...\n"
          ]
        }
      ],
      "source": [
        "file_path = 'data/dataset.json'\n",
        "df = pd.read_json(file_path)\n",
        "print(df.head())"
      ]
    },
    {
      "cell_type": "code",
      "execution_count": null,
      "id": "5f88ca13",
      "metadata": {
        "id": "5f88ca13",
        "outputId": "bacabfe8-6834-4eb9-d1e4-f48f55045c30"
      },
      "outputs": [
        {
          "name": "stdout",
          "output_type": "stream",
          "text": [
            "                                     id  \\\n",
            "0  78a81cb9-e87e-4799-90fb-ef7d2a92be8f   \n",
            "1  55403f4e-9722-42b7-bed3-11d18514e012   \n",
            "2  9c611343-eeb9-4804-b7ac-c6a54931c73d   \n",
            "3  4891427b-0339-4405-b51d-e7d53dbb0e21   \n",
            "4  31ff0ffb-c94b-4dd5-9e67-cb8c590d5c6d   \n",
            "\n",
            "                                                room  \\\n",
            "0  [[0, 0], [9357, 0], [9357, 6552], [6738, 6552]...   \n",
            "1  [[0, 10034], [0, 0], [7067, 0], [7067, 1351], ...   \n",
            "2  [[7492, 0], [7492, 3334], [8615, 3334], [8615,...   \n",
            "3  [[9428, 0], [9428, 5241], [9233, 5241], [9233,...   \n",
            "4  [[9643, 0], [9643, 6587], [8624, 6587], [8624,...   \n",
            "\n",
            "                                       extinguishers  comply  \n",
            "0                                [[8702.25, 6552.0]]       1  \n",
            "1  [[12991.416666666668, 1351.0], [5249.0, 7140.8...       1  \n",
            "2  [[5886.571428571428, 0.0], [0.0, 4564.8], [695...       1  \n",
            "3  [[2713.75, 8226.0], [0.0, 3598.875], [1628.25,...       1  \n",
            "4  [[3750.055555555555, 0.0], [0.0, 5952.57142857...       1  \n"
          ]
        }
      ],
      "source": [
        "# Deconstruct data column into separate dataframe\n",
        "df = pd.json_normalize(df['data'])\n",
        "print(df.head())"
      ]
    },
    {
      "cell_type": "markdown",
      "id": "c7feb644",
      "metadata": {
        "id": "c7feb644"
      },
      "source": [
        "### Grid Creation"
      ]
    },
    {
      "cell_type": "code",
      "execution_count": null,
      "id": "13fd4607",
      "metadata": {
        "scrolled": false,
        "id": "13fd4607",
        "outputId": "0a53a746-4d8a-4c86-ad4a-aa3da38abc62"
      },
      "outputs": [
        {
          "name": "stdout",
          "output_type": "stream",
          "text": [
            "Proposed grid size: [200, 141]\n"
          ]
        }
      ],
      "source": [
        "# Calculate max width and height across all rooms\n",
        "max_width = 0\n",
        "max_height = 0\n",
        "for room in df['room']:\n",
        "    xs, ys = zip(*room)\n",
        "    width = max(xs) - min(xs)\n",
        "    height = max(ys) - min(ys)\n",
        "    max_width = max(max_width, width)\n",
        "    max_height = max(max_height, height)\n",
        "\n",
        "# Define maximum grid size as 200 x 200 grid for now\n",
        "max_grid_size = 200\n",
        "\n",
        "# Calculate aspect ratio\n",
        "aspect_ratio = max_width / max_height\n",
        "\n",
        "# Adjust grid size to maintain aspect ratio\n",
        "if aspect_ratio > 1:\n",
        "    grid_width = max_grid_size\n",
        "    grid_height = int(max_grid_size / aspect_ratio)\n",
        "else:\n",
        "    grid_height = max_grid_size\n",
        "    grid_width = int(max_grid_size * aspect_ratio)\n",
        "\n",
        "grid_size = [grid_width, grid_height]\n",
        "print(f\"Proposed grid size: {grid_size}\")"
      ]
    },
    {
      "cell_type": "code",
      "execution_count": null,
      "id": "b147a7f1",
      "metadata": {
        "scrolled": false,
        "id": "b147a7f1"
      },
      "outputs": [],
      "source": [
        "def generate_grids(room_coords, ext_coords, grid_size):\n",
        "    \"\"\"\n",
        "    Generates binary grid representations for room and extinguishers.\n",
        "\n",
        "    Args:\n",
        "    - room_coords: Nested list representing the vertices of the room polygon.\n",
        "    - extinguisher_coords: Nested list representing the positions of extinguishers.\n",
        "    - grid_size: List indicating the size of the output grid.\n",
        "\n",
        "    Returns:\n",
        "    - room_grid: A binary grid where 1s represent the room area.\n",
        "    - ext_grid: A binary grid where 1s represent the extinguisher positions.\n",
        "\n",
        "    \"\"\"\n",
        "    # Initialize grids\n",
        "    room_grid = np.zeros(grid_size)\n",
        "    ext_grid = np.zeros(grid_size)\n",
        "\n",
        "    # Create a polygon for the room\n",
        "    room_polygon = Polygon(room_coords)\n",
        "\n",
        "    # Calculate the bounds of the room to scale coordinates\n",
        "    min_x, min_y, max_x, max_y = room_polygon.bounds\n",
        "    scale_x, scale_y = (max_x - min_x)/grid_size[0],(max_y - min_y)/grid_size[1]\n",
        "\n",
        "    # Fill in room coordinates into grid\n",
        "    for i in range(grid_size[0]):\n",
        "        for j in range(grid_size[1]):\n",
        "            x, y = min_x + i * scale_x, min_y + j * scale_y\n",
        "            if room_polygon.contains(Point(x, y)):\n",
        "                room_grid[i, j] = 1\n",
        "\n",
        "    # Place extinguishers on the grid\n",
        "    for x, y in ext_coords:\n",
        "        i, j = int((x - min_x)/scale_x), int((y - min_y)/scale_y)\n",
        "        if 0 <= i < grid_size[0] and 0 <= j < grid_size[1]:\n",
        "            ext_grid[i, j] = 1\n",
        "\n",
        "    return room_grid, ext_grid"
      ]
    },
    {
      "cell_type": "code",
      "execution_count": null,
      "id": "e8d2135e",
      "metadata": {
        "id": "e8d2135e",
        "outputId": "6264a482-3f74-4a0e-fa7a-83d5ffa1721d"
      },
      "outputs": [
        {
          "data": {
            "image/png": "[encoded data removed]",
            "text/plain": [
              "<Figure size 1200x600 with 2 Axes>"
            ]
          },
          "metadata": {},
          "output_type": "display_data"
        }
      ],
      "source": [
        "# Visualise room grid plot with sample_code\n",
        "\n",
        "room_coords_example = [[0, 0], [9357, 0], [9357, 6552], [6738, 6552], [6738, 6892], [11655, 6892], [11655, 12592], [3369, 12592], [3369, 6892], [0, 6892]]\n",
        "\n",
        "ext_coords_example = [[8702.25, 6552.0]]\n",
        "\n",
        "room_grid, ext_grid = generate_grids(room_coords_example, ext_coords_example, grid_size)\n",
        "\n",
        "plt.figure(figsize=(12, 6))\n",
        "plt.subplot(1, 2, 1)\n",
        "plt.title(\"Room Grid\")\n",
        "plt.imshow(room_grid, cmap='binary')\n",
        "\n",
        "plt.subplot(1, 2, 2)\n",
        "plt.title(\"Extinguisher Grid\")\n",
        "plt.imshow(ext_grid, cmap='binary')\n",
        "plt.show()"
      ]
    },
    {
      "cell_type": "markdown",
      "id": "c561cd22",
      "metadata": {
        "id": "c561cd22"
      },
      "source": [
        "### Data Preparation"
      ]
    },
    {
      "cell_type": "code",
      "execution_count": null,
      "id": "bd3f63d0",
      "metadata": {
        "id": "bd3f63d0"
      },
      "outputs": [],
      "source": [
        "from joblib import Parallel, delayed"
      ]
    },
    {
      "cell_type": "code",
      "execution_count": null,
      "id": "8099747d",
      "metadata": {
        "id": "8099747d"
      },
      "outputs": [],
      "source": [
        "# Filter for compliant configurations\n",
        "compliant_df = df[df['comply'] == 1]\n",
        "\n",
        "num_samples = len(compliant_df)\n",
        "\n",
        "# Adjust dimensions based on calculated grid size\n",
        "X = np.zeros((num_samples, grid_width, grid_height, 1)) # Inputs: Room config\n",
        "Y = np.zeros((num_samples, grid_width, grid_height, 1)) # Targets: Extinguisher placement\n",
        "\n",
        "def get_sample_data(index, compliant_df):\n",
        "    \"\"\"\n",
        "    Retrieve room and extinguisher coordinates for a given index in filtered dataframe\n",
        "    \"\"\"\n",
        "    sample = compliant_df.iloc[index]\n",
        "    return sample['room'], sample['extinguishers']\n",
        "\n",
        "# Apply adjusted grid size to each sample\n",
        "def process_sample(i):\n",
        "    room_coords, extinguisher_coords = get_sample_data(i, compliant_df)\n",
        "    room_grid, extinguisher_grid = generate_grids(room_coords, extinguisher_coords, grid_size)\n",
        "    return room_grid, extinguisher_grid\n",
        "\n",
        "# Parallel processing\n",
        "results = Parallel(n_jobs=-1)(delayed(process_sample)(i) for i in range(num_samples))\n",
        "\n",
        "for i, (room_grid, extinguisher_grid) in enumerate(results):\n",
        "    X[i, :, :, 0] = room_grid\n",
        "    Y[i, :, :, 0] = extinguisher_grid"
      ]
    },
    {
      "cell_type": "markdown",
      "id": "303f0915",
      "metadata": {
        "id": "303f0915"
      },
      "source": [
        "### CNN Model Definition"
      ]
    },
    {
      "cell_type": "code",
      "execution_count": null,
      "id": "163c22be",
      "metadata": {
        "id": "163c22be",
        "outputId": "07ad1154-3544-404c-9244-cfec496f9613"
      },
      "outputs": [
        {
          "data": {
            "text/html": [
              "<pre style=\"white-space:pre;overflow-x:auto;line-height:normal;font-family:Menlo,'DejaVu Sans Mono',consolas,'Courier New',monospace\"><span style=\"font-weight: bold\">Model: \"sequential_6\"</span>\n",
              "</pre>\n"
            ],
            "text/plain": [
              "\u001b[1mModel: \"sequential_6\"\u001b[0m\n"
            ]
          },
          "metadata": {},
          "output_type": "display_data"
        },
        {
          "data": {
            "text/html": [
              "<pre style=\"white-space:pre;overflow-x:auto;line-height:normal;font-family:Menlo,'DejaVu Sans Mono',consolas,'Courier New',monospace\">┏━━━━━━━━━━━━━━━━━━━━━━━━━━━━━━━━━┳━━━━━━━━━━━━━━━━━━━━━━━━┳━━━━━━━━━━━━━━━┓\n",
              "┃<span style=\"font-weight: bold\"> Layer (type)                    </span>┃<span style=\"font-weight: bold\"> Output Shape           </span>┃<span style=\"font-weight: bold\">       Param # </span>┃\n",
              "┡━━━━━━━━━━━━━━━━━━━━━━━━━━━━━━━━━╇━━━━━━━━━━━━━━━━━━━━━━━━╇━━━━━━━━━━━━━━━┩\n",
              "│ conv2d_22 (<span style=\"color: #0087ff; text-decoration-color: #0087ff\">Conv2D</span>)              │ (<span style=\"color: #00d7ff; text-decoration-color: #00d7ff\">None</span>, <span style=\"color: #00af00; text-decoration-color: #00af00\">141</span>, <span style=\"color: #00af00; text-decoration-color: #00af00\">200</span>, <span style=\"color: #00af00; text-decoration-color: #00af00\">32</span>)   │           <span style=\"color: #00af00; text-decoration-color: #00af00\">320</span> │\n",
              "├─────────────────────────────────┼────────────────────────┼───────────────┤\n",
              "│ max_pooling2d_16 (<span style=\"color: #0087ff; text-decoration-color: #0087ff\">MaxPooling2D</span>) │ (<span style=\"color: #00d7ff; text-decoration-color: #00d7ff\">None</span>, <span style=\"color: #00af00; text-decoration-color: #00af00\">70</span>, <span style=\"color: #00af00; text-decoration-color: #00af00\">100</span>, <span style=\"color: #00af00; text-decoration-color: #00af00\">32</span>)    │             <span style=\"color: #00af00; text-decoration-color: #00af00\">0</span> │\n",
              "├─────────────────────────────────┼────────────────────────┼───────────────┤\n",
              "│ conv2d_23 (<span style=\"color: #0087ff; text-decoration-color: #0087ff\">Conv2D</span>)              │ (<span style=\"color: #00d7ff; text-decoration-color: #00d7ff\">None</span>, <span style=\"color: #00af00; text-decoration-color: #00af00\">70</span>, <span style=\"color: #00af00; text-decoration-color: #00af00\">100</span>, <span style=\"color: #00af00; text-decoration-color: #00af00\">64</span>)    │        <span style=\"color: #00af00; text-decoration-color: #00af00\">18,496</span> │\n",
              "├─────────────────────────────────┼────────────────────────┼───────────────┤\n",
              "│ max_pooling2d_17 (<span style=\"color: #0087ff; text-decoration-color: #0087ff\">MaxPooling2D</span>) │ (<span style=\"color: #00d7ff; text-decoration-color: #00d7ff\">None</span>, <span style=\"color: #00af00; text-decoration-color: #00af00\">35</span>, <span style=\"color: #00af00; text-decoration-color: #00af00\">50</span>, <span style=\"color: #00af00; text-decoration-color: #00af00\">64</span>)     │             <span style=\"color: #00af00; text-decoration-color: #00af00\">0</span> │\n",
              "├─────────────────────────────────┼────────────────────────┼───────────────┤\n",
              "│ conv2d_transpose_16             │ (<span style=\"color: #00d7ff; text-decoration-color: #00d7ff\">None</span>, <span style=\"color: #00af00; text-decoration-color: #00af00\">70</span>, <span style=\"color: #00af00; text-decoration-color: #00af00\">100</span>, <span style=\"color: #00af00; text-decoration-color: #00af00\">64</span>)    │        <span style=\"color: #00af00; text-decoration-color: #00af00\">36,928</span> │\n",
              "│ (<span style=\"color: #0087ff; text-decoration-color: #0087ff\">Conv2DTranspose</span>)               │                        │               │\n",
              "├─────────────────────────────────┼────────────────────────┼───────────────┤\n",
              "│ conv2d_transpose_17             │ (<span style=\"color: #00d7ff; text-decoration-color: #00d7ff\">None</span>, <span style=\"color: #00af00; text-decoration-color: #00af00\">140</span>, <span style=\"color: #00af00; text-decoration-color: #00af00\">200</span>, <span style=\"color: #00af00; text-decoration-color: #00af00\">32</span>)   │        <span style=\"color: #00af00; text-decoration-color: #00af00\">18,464</span> │\n",
              "│ (<span style=\"color: #0087ff; text-decoration-color: #0087ff\">Conv2DTranspose</span>)               │                        │               │\n",
              "├─────────────────────────────────┼────────────────────────┼───────────────┤\n",
              "│ zero_padding2d_3                │ (<span style=\"color: #00d7ff; text-decoration-color: #00d7ff\">None</span>, <span style=\"color: #00af00; text-decoration-color: #00af00\">140</span>, <span style=\"color: #00af00; text-decoration-color: #00af00\">201</span>, <span style=\"color: #00af00; text-decoration-color: #00af00\">32</span>)   │             <span style=\"color: #00af00; text-decoration-color: #00af00\">0</span> │\n",
              "│ (<span style=\"color: #0087ff; text-decoration-color: #0087ff\">ZeroPadding2D</span>)                 │                        │               │\n",
              "├─────────────────────────────────┼────────────────────────┼───────────────┤\n",
              "│ conv2d_24 (<span style=\"color: #0087ff; text-decoration-color: #0087ff\">Conv2D</span>)              │ (<span style=\"color: #00d7ff; text-decoration-color: #00d7ff\">None</span>, <span style=\"color: #00af00; text-decoration-color: #00af00\">140</span>, <span style=\"color: #00af00; text-decoration-color: #00af00\">201</span>, <span style=\"color: #00af00; text-decoration-color: #00af00\">1</span>)    │           <span style=\"color: #00af00; text-decoration-color: #00af00\">289</span> │\n",
              "└─────────────────────────────────┴────────────────────────┴───────────────┘\n",
              "</pre>\n"
            ],
            "text/plain": [
              "┏━━━━━━━━━━━━━━━━━━━━━━━━━━━━━━━━━┳━━━━━━━━━━━━━━━━━━━━━━━━┳━━━━━━━━━━━━━━━┓\n",
              "┃\u001b[1m \u001b[0m\u001b[1mLayer (type)                   \u001b[0m\u001b[1m \u001b[0m┃\u001b[1m \u001b[0m\u001b[1mOutput Shape          \u001b[0m\u001b[1m \u001b[0m┃\u001b[1m \u001b[0m\u001b[1m      Param #\u001b[0m\u001b[1m \u001b[0m┃\n",
              "┡━━━━━━━━━━━━━━━━━━━━━━━━━━━━━━━━━╇━━━━━━━━━━━━━━━━━━━━━━━━╇━━━━━━━━━━━━━━━┩\n",
              "│ conv2d_22 (\u001b[38;5;33mConv2D\u001b[0m)              │ (\u001b[38;5;45mNone\u001b[0m, \u001b[38;5;34m141\u001b[0m, \u001b[38;5;34m200\u001b[0m, \u001b[38;5;34m32\u001b[0m)   │           \u001b[38;5;34m320\u001b[0m │\n",
              "├─────────────────────────────────┼────────────────────────┼───────────────┤\n",
              "│ max_pooling2d_16 (\u001b[38;5;33mMaxPooling2D\u001b[0m) │ (\u001b[38;5;45mNone\u001b[0m, \u001b[38;5;34m70\u001b[0m, \u001b[38;5;34m100\u001b[0m, \u001b[38;5;34m32\u001b[0m)    │             \u001b[38;5;34m0\u001b[0m │\n",
              "├─────────────────────────────────┼────────────────────────┼───────────────┤\n",
              "│ conv2d_23 (\u001b[38;5;33mConv2D\u001b[0m)              │ (\u001b[38;5;45mNone\u001b[0m, \u001b[38;5;34m70\u001b[0m, \u001b[38;5;34m100\u001b[0m, \u001b[38;5;34m64\u001b[0m)    │        \u001b[38;5;34m18,496\u001b[0m │\n",
              "├─────────────────────────────────┼────────────────────────┼───────────────┤\n",
              "│ max_pooling2d_17 (\u001b[38;5;33mMaxPooling2D\u001b[0m) │ (\u001b[38;5;45mNone\u001b[0m, \u001b[38;5;34m35\u001b[0m, \u001b[38;5;34m50\u001b[0m, \u001b[38;5;34m64\u001b[0m)     │             \u001b[38;5;34m0\u001b[0m │\n",
              "├─────────────────────────────────┼────────────────────────┼───────────────┤\n",
              "│ conv2d_transpose_16             │ (\u001b[38;5;45mNone\u001b[0m, \u001b[38;5;34m70\u001b[0m, \u001b[38;5;34m100\u001b[0m, \u001b[38;5;34m64\u001b[0m)    │        \u001b[38;5;34m36,928\u001b[0m │\n",
              "│ (\u001b[38;5;33mConv2DTranspose\u001b[0m)               │                        │               │\n",
              "├─────────────────────────────────┼────────────────────────┼───────────────┤\n",
              "│ conv2d_transpose_17             │ (\u001b[38;5;45mNone\u001b[0m, \u001b[38;5;34m140\u001b[0m, \u001b[38;5;34m200\u001b[0m, \u001b[38;5;34m32\u001b[0m)   │        \u001b[38;5;34m18,464\u001b[0m │\n",
              "│ (\u001b[38;5;33mConv2DTranspose\u001b[0m)               │                        │               │\n",
              "├─────────────────────────────────┼────────────────────────┼───────────────┤\n",
              "│ zero_padding2d_3                │ (\u001b[38;5;45mNone\u001b[0m, \u001b[38;5;34m140\u001b[0m, \u001b[38;5;34m201\u001b[0m, \u001b[38;5;34m32\u001b[0m)   │             \u001b[38;5;34m0\u001b[0m │\n",
              "│ (\u001b[38;5;33mZeroPadding2D\u001b[0m)                 │                        │               │\n",
              "├─────────────────────────────────┼────────────────────────┼───────────────┤\n",
              "│ conv2d_24 (\u001b[38;5;33mConv2D\u001b[0m)              │ (\u001b[38;5;45mNone\u001b[0m, \u001b[38;5;34m140\u001b[0m, \u001b[38;5;34m201\u001b[0m, \u001b[38;5;34m1\u001b[0m)    │           \u001b[38;5;34m289\u001b[0m │\n",
              "└─────────────────────────────────┴────────────────────────┴───────────────┘\n"
            ]
          },
          "metadata": {},
          "output_type": "display_data"
        },
        {
          "data": {
            "text/html": [
              "<pre style=\"white-space:pre;overflow-x:auto;line-height:normal;font-family:Menlo,'DejaVu Sans Mono',consolas,'Courier New',monospace\"><span style=\"font-weight: bold\"> Total params: </span><span style=\"color: #00af00; text-decoration-color: #00af00\">74,497</span> (291.00 KB)\n",
              "</pre>\n"
            ],
            "text/plain": [
              "\u001b[1m Total params: \u001b[0m\u001b[38;5;34m74,497\u001b[0m (291.00 KB)\n"
            ]
          },
          "metadata": {},
          "output_type": "display_data"
        },
        {
          "data": {
            "text/html": [
              "<pre style=\"white-space:pre;overflow-x:auto;line-height:normal;font-family:Menlo,'DejaVu Sans Mono',consolas,'Courier New',monospace\"><span style=\"font-weight: bold\"> Trainable params: </span><span style=\"color: #00af00; text-decoration-color: #00af00\">74,497</span> (291.00 KB)\n",
              "</pre>\n"
            ],
            "text/plain": [
              "\u001b[1m Trainable params: \u001b[0m\u001b[38;5;34m74,497\u001b[0m (291.00 KB)\n"
            ]
          },
          "metadata": {},
          "output_type": "display_data"
        },
        {
          "data": {
            "text/html": [
              "<pre style=\"white-space:pre;overflow-x:auto;line-height:normal;font-family:Menlo,'DejaVu Sans Mono',consolas,'Courier New',monospace\"><span style=\"font-weight: bold\"> Non-trainable params: </span><span style=\"color: #00af00; text-decoration-color: #00af00\">0</span> (0.00 B)\n",
              "</pre>\n"
            ],
            "text/plain": [
              "\u001b[1m Non-trainable params: \u001b[0m\u001b[38;5;34m0\u001b[0m (0.00 B)\n"
            ]
          },
          "metadata": {},
          "output_type": "display_data"
        },
        {
          "name": "stdout",
          "output_type": "stream",
          "text": [
            "None\n"
          ]
        }
      ],
      "source": [
        "# For later refinement\n",
        "\n",
        "def build_model(input_shape):\n",
        "    model = Sequential([\n",
        "        Input(shape=input_shape),\n",
        "        Conv2D(32, (3, 3), activation='relu', padding='same'),\n",
        "        MaxPooling2D((2, 2)),\n",
        "        Conv2D(64, (3, 3), activation='relu', padding='same'),\n",
        "        MaxPooling2D((2, 2)),\n",
        "        Conv2DTranspose(64, (3, 3), strides=(2, 2), padding='same'),\n",
        "        Conv2DTranspose(32, (3, 3), strides=(2, 2), padding='same'),\n",
        "        ZeroPadding2D(padding=((0, 0), (1, 0))),\n",
        "        Conv2D(1, (3, 3), activation='sigmoid', padding='same')\n",
        "    ])\n",
        "    model.compile(optimizer='adam', loss='binary_crossentropy', metrics=['accuracy'])\n",
        "    return model\n",
        "\n",
        "model = build_model((grid_height, grid_width, 1))\n",
        "\n",
        "print(model.summary())"
      ]
    },
    {
      "cell_type": "markdown",
      "id": "1f806600",
      "metadata": {
        "id": "1f806600"
      },
      "source": [
        "### Training Model"
      ]
    },
    {
      "cell_type": "code",
      "execution_count": null,
      "id": "c647b2fa",
      "metadata": {
        "scrolled": true,
        "id": "c647b2fa",
        "outputId": "2cfac83f-b17d-463b-f82b-64653c3670dd"
      },
      "outputs": [
        {
          "name": "stdout",
          "output_type": "stream",
          "text": [
            "Epoch 1/10\n",
            "\u001b[1m204/204\u001b[0m \u001b[32m━━━━━━━━━━━━━━━━━━━━\u001b[0m\u001b[37m\u001b[0m \u001b[1m72s\u001b[0m 348ms/step - accuracy: 0.9871 - loss: 0.1130 - val_accuracy: 0.9999 - val_loss: 0.0014\n",
            "Epoch 2/10\n",
            "\u001b[1m204/204\u001b[0m \u001b[32m━━━━━━━━━━━━━━━━━━━━\u001b[0m\u001b[37m\u001b[0m \u001b[1m76s\u001b[0m 374ms/step - accuracy: 0.9999 - loss: 0.0012 - val_accuracy: 0.9999 - val_loss: 7.2015e-04\n",
            "Epoch 3/10\n",
            "\u001b[1m204/204\u001b[0m \u001b[32m━━━━━━━━━━━━━━━━━━━━\u001b[0m\u001b[37m\u001b[0m \u001b[1m78s\u001b[0m 381ms/step - accuracy: 0.9999 - loss: 6.8486e-04 - val_accuracy: 0.9999 - val_loss: 5.5677e-04\n",
            "Epoch 4/10\n",
            "\u001b[1m204/204\u001b[0m \u001b[32m━━━━━━━━━━━━━━━━━━━━\u001b[0m\u001b[37m\u001b[0m \u001b[1m77s\u001b[0m 378ms/step - accuracy: 0.9999 - loss: 5.6060e-04 - val_accuracy: 0.9999 - val_loss: 4.8677e-04\n",
            "Epoch 5/10\n",
            "\u001b[1m204/204\u001b[0m \u001b[32m━━━━━━━━━━━━━━━━━━━━\u001b[0m\u001b[37m\u001b[0m \u001b[1m79s\u001b[0m 386ms/step - accuracy: 0.9999 - loss: 4.8870e-04 - val_accuracy: 0.9999 - val_loss: 4.4760e-04\n",
            "Epoch 6/10\n",
            "\u001b[1m204/204\u001b[0m \u001b[32m━━━━━━━━━━━━━━━━━━━━\u001b[0m\u001b[37m\u001b[0m \u001b[1m77s\u001b[0m 378ms/step - accuracy: 0.9999 - loss: 4.5231e-04 - val_accuracy: 0.9999 - val_loss: 4.2225e-04\n",
            "Epoch 7/10\n",
            "\u001b[1m204/204\u001b[0m \u001b[32m━━━━━━━━━━━━━━━━━━━━\u001b[0m\u001b[37m\u001b[0m \u001b[1m77s\u001b[0m 375ms/step - accuracy: 0.9999 - loss: 4.3104e-04 - val_accuracy: 0.9999 - val_loss: 4.0611e-04\n",
            "Epoch 8/10\n",
            "\u001b[1m204/204\u001b[0m \u001b[32m━━━━━━━━━━━━━━━━━━━━\u001b[0m\u001b[37m\u001b[0m \u001b[1m74s\u001b[0m 361ms/step - accuracy: 0.9999 - loss: 4.1868e-04 - val_accuracy: 0.9999 - val_loss: 4.0132e-04\n",
            "Epoch 9/10\n",
            "\u001b[1m204/204\u001b[0m \u001b[32m━━━━━━━━━━━━━━━━━━━━\u001b[0m\u001b[37m\u001b[0m \u001b[1m74s\u001b[0m 362ms/step - accuracy: 0.9999 - loss: 4.1157e-04 - val_accuracy: 0.9999 - val_loss: 3.9685e-04\n",
            "Epoch 10/10\n",
            "\u001b[1m204/204\u001b[0m \u001b[32m━━━━━━━━━━━━━━━━━━━━\u001b[0m\u001b[37m\u001b[0m \u001b[1m74s\u001b[0m 365ms/step - accuracy: 0.9999 - loss: 4.0847e-04 - val_accuracy: 0.9999 - val_loss: 3.9322e-04\n"
          ]
        },
        {
          "data": {
            "text/plain": [
              "<keras.src.callbacks.history.History at 0x29e2db430>"
            ]
          },
          "execution_count": 28,
          "metadata": {},
          "output_type": "execute_result"
        }
      ],
      "source": [
        "model.fit(X, Y, epochs=10, validation_split=0.2, batch_size=32)"
      ]
    },
    {
      "cell_type": "markdown",
      "id": "614629db",
      "metadata": {
        "id": "614629db"
      },
      "source": [
        "### Predictions"
      ]
    },
    {
      "cell_type": "code",
      "execution_count": null,
      "id": "370c320d",
      "metadata": {
        "id": "370c320d"
      },
      "outputs": [],
      "source": [
        "# Processing new room grid\n",
        "\n",
        "def generate_new_room_grid(room_coords, grid_size):\n",
        "    \"\"\"\n",
        "    Generates binary grid representations for room based on new room coordinates/ vertices.\n",
        "\n",
        "    Args:\n",
        "    - room_coords: Nested list representing the vertices of the room polygon.\n",
        "    - grid_size: List indicating the size of the output grid.\n",
        "\n",
        "    Returns:\n",
        "    - room_grid: A binary grid where 1s represent the room area.\n",
        "\n",
        "    \"\"\"\n",
        "    # Initialize grids\n",
        "    room_grid = np.zeros(grid_size)\n",
        "\n",
        "    # Create a polygon for the room\n",
        "    room_polygon = Polygon(room_coords)\n",
        "\n",
        "    # Calculate the bounds of the room to scale coordinates\n",
        "    min_x, min_y, max_x, max_y = room_polygon.bounds\n",
        "    scale_x, scale_y = (max_x - min_x)/grid_size[0],(max_y - min_y)/grid_size[1]\n",
        "\n",
        "    # Fill in room coordinates into grid\n",
        "    for i in range(grid_size[0]):\n",
        "        for j in range(grid_size[1]):\n",
        "            x, y = min_x + i * scale_x, min_y + j * scale_y\n",
        "            if room_polygon.contains(Point(x, y)):\n",
        "                room_grid[i, j] = 1\n",
        "\n",
        "    return room_grid"
      ]
    },
    {
      "cell_type": "code",
      "execution_count": null,
      "id": "a10f22f6",
      "metadata": {
        "id": "a10f22f6",
        "outputId": "ad39b423-fa6e-4e10-f454-8438bdefecba"
      },
      "outputs": [
        {
          "name": "stdout",
          "output_type": "stream",
          "text": [
            "\u001b[1m1/1\u001b[0m \u001b[32m━━━━━━━━━━━━━━━━━━━━\u001b[0m\u001b[37m\u001b[0m \u001b[1m0s\u001b[0m 14ms/step\n",
            "[[[[1.91827025e-03]\n",
            "   [4.15487702e-05]\n",
            "   [7.25085420e-06]\n",
            "   ...\n",
            "   [6.73137151e-07]\n",
            "   [1.00348973e-06]\n",
            "   [7.39361509e-04]]\n",
            "\n",
            "  [[1.89492523e-04]\n",
            "   [1.99275675e-07]\n",
            "   [3.10299941e-09]\n",
            "   ...\n",
            "   [8.81002771e-10]\n",
            "   [1.49590118e-08]\n",
            "   [2.02653719e-05]]\n",
            "\n",
            "  [[4.33530513e-05]\n",
            "   [5.29807131e-08]\n",
            "   [8.08051237e-10]\n",
            "   ...\n",
            "   [3.13681725e-09]\n",
            "   [1.70545249e-08]\n",
            "   [1.35897708e-05]]\n",
            "\n",
            "  ...\n",
            "\n",
            "  [[5.03564434e-06]\n",
            "   [8.53897175e-10]\n",
            "   [1.01847406e-10]\n",
            "   ...\n",
            "   [4.47985883e-07]\n",
            "   [1.81630583e-07]\n",
            "   [2.15554610e-06]]\n",
            "\n",
            "  [[1.22240408e-05]\n",
            "   [1.47011052e-08]\n",
            "   [9.29446387e-09]\n",
            "   ...\n",
            "   [4.43035105e-06]\n",
            "   [3.11012013e-06]\n",
            "   [2.44985567e-05]]\n",
            "\n",
            "  [[1.49313593e-03]\n",
            "   [1.45238391e-05]\n",
            "   [1.67749499e-06]\n",
            "   ...\n",
            "   [5.53985155e-05]\n",
            "   [6.96030984e-05]\n",
            "   [2.07085046e-04]]]]\n"
          ]
        },
        {
          "data": {
            "image/png": "[encoded data removed]",
            "text/plain": [
              "<Figure size 640x480 with 1 Axes>"
            ]
          },
          "metadata": {},
          "output_type": "display_data"
        }
      ],
      "source": [
        "# Sample room grid\n",
        "room_coords_example = [[26756, 11800], [16799, 11800], [16799, 11473], [8608, 11473], [8608, 6093], [0, 6093], [0, 0], [8608, 0], [8608, 5077], [26756, 5077]]\n",
        "new_room_grid = generate_new_room_grid(room_coords_example, grid_size)\n",
        "room_grid_reshaped = room_grid.reshape(1, grid_size[0], grid_size[1], 1)\n",
        "predicted_ext_grid = model.predict(room_grid_reshaped)\n",
        "threshold = 0.01\n",
        "predicted_ext_grid_binary = (predicted_ext_grid > threshold).astype(int)\n",
        "print(predicted_ext_grid)\n",
        "\n",
        "plt.imshow(predicted_ext_grid_binary.reshape(grid_size), cmap='Greys')\n",
        "plt.title(\"Predicted Extinguisher Placement\")\n",
        "plt.show()"
      ]
    }
  ],
  "metadata": {
    "kernelspec": {
      "display_name": "Python 3 (ipykernel)",
      "language": "python",
      "name": "python3"
    },
    "language_info": {
      "codemirror_mode": {
        "name": "ipython",
        "version": 3
      },
      "file_extension": ".py",
      "mimetype": "text/x-python",
      "name": "python",
      "nbconvert_exporter": "python",
      "pygments_lexer": "ipython3",
      "version": "3.10.9"
    },
    "colab": {
      "provenance": []
    }
  },
  "nbformat": 4,
  "nbformat_minor": 5
}