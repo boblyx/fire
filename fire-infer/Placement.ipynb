{
 "cells": [
  {
   "cell_type": "code",
   "execution_count": null,
   "id": "e76bc9da-fb5e-4637-8abe-f7d38df675bb",
   "metadata": {},
   "outputs": [],
   "source": [
    "\"\"\"\n",
    "Placement inference\n",
    "Level 1: Given x extinguishers determine where to place\n",
    "additional extinguishers to allow the layout to comply.\n",
    "\n",
    "Output nodes may be up to 5.\n",
    "Input nodes will be:\n",
    "- Up to 4 for extinguisher 3D tensors \n",
    "    - last field tells computer whether to ignore tensor, i.e., -1 means there's no extinguisher (Use ReLU)\n",
    "- Up to 32 for room 2D tensors\n",
    "    - Similarly, -1 means no room vertex.\n",
    "\n",
    "Feature nodes:\n",
    "- Up to 255*5 Distance min/max/avg distance from each room vertices to each extinguisher\n",
    "- Extinguisher Centroid location\n",
    "\n",
    "Hidden layers: \n",
    "- No idea what they will actually do but let's just put 5, using same no. as feature nodes.\n",
    "\n",
    "Dataset:\n",
    "- May need a synthetic dataset to see X extinguishers and and Y extinguishers to place to pass.\n",
    "\"\"\"\n",
    "\n",
    "import torch\n",
    "import torch.nn as nn\n",
    "import torch.nn.functional as F\n",
    "\n",
    "class Net(nn.Module):\n",
    "    def __init__(self):\n",
    "\n",
    "        super(Net, self).__init__()\n",
    "\n",
    "        #self.l1 = nn.Linear(36\n",
    "        \n",
    "        pass\n",
    "    pass\n"
   ]
  }
 ],
 "metadata": {
  "kernelspec": {
   "display_name": "Python 3 (ipykernel)",
   "language": "python",
   "name": "python3"
  },
  "language_info": {
   "codemirror_mode": {
    "name": "ipython",
    "version": 3
   },
   "file_extension": ".py",
   "mimetype": "text/x-python",
   "name": "python",
   "nbconvert_exporter": "python",
   "pygments_lexer": "ipython3",
   "version": "3.11.5"
  }
 },
 "nbformat": 4,
 "nbformat_minor": 5
}
